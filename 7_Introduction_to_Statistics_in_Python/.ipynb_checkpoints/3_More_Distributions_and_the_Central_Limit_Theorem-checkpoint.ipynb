{
 "cells": [
  {
   "cell_type": "markdown",
   "id": "75b35713-42a3-4977-8d45-ed94b41ac06a",
   "metadata": {},
   "source": [
    "# More Distributions and the Central Limit Theorem"
   ]
  },
  {
   "cell_type": "markdown",
   "id": "d454962b-cc99-4547-85a5-70b7dd25a732",
   "metadata": {},
   "source": [
    "## The normal distribution"
   ]
  },
  {
   "cell_type": "markdown",
   "id": "9629631a-887c-4060-a73b-3e4546af8b2e",
   "metadata": {},
   "source": [
    "- normal distribution: Symmetrical, defined by mean and std\n",
    "- Standard normaldi stribution: mean = 0, std = 1\n",
    "\n",
    "<img src='https://www.scribbr.de/wp-content/uploads/2023/01/Standard-normal-distribution.webp' width='400'><img src='https://www.scribbr.com/wp-content/uploads/2023/02/standard-normal-distribution-example.webp' width='400'>"
   ]
  },
  {
   "cell_type": "code",
   "execution_count": 49,
   "id": "ad265fd5-3362-4100-a72f-17161265727e",
   "metadata": {},
   "outputs": [],
   "source": [
    "from scipy.stats import norm"
   ]
  },
  {
   "cell_type": "markdown",
   "id": "6a7d7fb3-af7b-499f-837e-7d9f93f1519b",
   "metadata": {},
   "source": [
    "### Cumulative Distribution Function (CDF)"
   ]
  },
  {
   "cell_type": "code",
   "execution_count": 50,
   "id": "7a7077dd-65dc-47b5-98c0-78f1a51bee64",
   "metadata": {},
   "outputs": [
    {
     "data": {
      "text/plain": [
       "0.07656372550983476"
      ]
     },
     "execution_count": 50,
     "metadata": {},
     "output_type": "execute_result"
    }
   ],
   "source": [
    "# What percent of stock prices are lower than $100 \n",
    "norm.cdf(100, 110, 7)"
   ]
  },
  {
   "cell_type": "code",
   "execution_count": 51,
   "id": "493a6bbb-541c-4291-b754-c46e09a07c9d",
   "metadata": {},
   "outputs": [
    {
     "data": {
      "text/plain": [
       "0.9234362744901652"
      ]
     },
     "execution_count": 51,
     "metadata": {},
     "output_type": "execute_result"
    }
   ],
   "source": [
    "# What percent of stock prices are greater than $100 \n",
    "1 - norm.cdf(100, 110, 7)"
   ]
  },
  {
   "cell_type": "code",
   "execution_count": 52,
   "id": "cba532b9-4c49-4581-82ea-de9206e8f1cd",
   "metadata": {},
   "outputs": [
    {
     "data": {
      "text/plain": [
       "0.2624747379730235"
      ]
     },
     "execution_count": 52,
     "metadata": {},
     "output_type": "execute_result"
    }
   ],
   "source": [
    "# What percent of stock prices are between $100 and $105\n",
    "norm.cdf(110, 110, 7) - norm.cdf(105, 110, 7)"
   ]
  },
  {
   "cell_type": "markdown",
   "id": "ca6e7ccd-4de8-4bf4-a0e2-7832ade543c2",
   "metadata": {},
   "source": [
    "### Probability Point Function (PPF)"
   ]
  },
  {
   "cell_type": "markdown",
   "id": "3a948c3e-580a-45ae-a88f-842d25256e67",
   "metadata": {},
   "source": [
    "The `Probability Point Function` or `PPF` is the inverse of the CDF. \n",
    "\n",
    "Specifically, the PPF returns the exact point where the probability of everything to the left is equal to y . This can be thought of as the percentile function since the PPF tells us the value of a given percentile of the data."
   ]
  },
  {
   "cell_type": "code",
   "execution_count": 53,
   "id": "914a5d21-541f-4040-b03b-ae886ec91115",
   "metadata": {},
   "outputs": [
    {
     "data": {
      "text/plain": [
       "118.97086095881221"
      ]
     },
     "execution_count": 53,
     "metadata": {},
     "output_type": "execute_result"
    }
   ],
   "source": [
    "# What stock price are 90% of stocks lower than?\n",
    "norm.ppf(0.9, 110, 7)"
   ]
  },
  {
   "cell_type": "code",
   "execution_count": 54,
   "id": "0c1714b4-193a-4772-bd4d-10c836ffc7fb",
   "metadata": {},
   "outputs": [
    {
     "data": {
      "text/plain": [
       "101.02913904118779"
      ]
     },
     "execution_count": 54,
     "metadata": {},
     "output_type": "execute_result"
    }
   ],
   "source": [
    "# What stock price are 90% of stocks greater than?\n",
    "# normal distribution is symmetrical\n",
    "norm.ppf((1-0.9), 110, 7)"
   ]
  },
  {
   "cell_type": "markdown",
   "id": "f67e0b6b-ba5c-43a0-b0d3-83189a3442f3",
   "metadata": {},
   "source": [
    "### Generating random numbers"
   ]
  },
  {
   "cell_type": "code",
   "execution_count": 55,
   "id": "a64004af-d5d3-40e4-a407-62d947f8ca45",
   "metadata": {},
   "outputs": [
    {
     "data": {
      "text/plain": [
       "array([82.70745075, 79.72023046, 78.17387624, 81.5279456 , 62.72500409,\n",
       "       76.15815126, 87.58794319, 77.31134805, 70.14491495, 84.72219228])"
      ]
     },
     "execution_count": 55,
     "metadata": {},
     "output_type": "execute_result"
    }
   ],
   "source": [
    "# Generate 10 random exam grades\n",
    "# norm.rvs(mean, std, size)\n",
    "norm.rvs(76, 8, size=10)"
   ]
  },
  {
   "cell_type": "markdown",
   "id": "adc1bc67-e178-4ecf-b110-8be361c0dd95",
   "metadata": {},
   "source": [
    "## The central limit theorem"
   ]
  },
  {
   "cell_type": "markdown",
   "id": "f6d18833-d98b-4124-af91-c23d1b523ddc",
   "metadata": {},
   "source": [
    "- The sampling distribution of a statistic becomes closer to the normal distribution as the number of trials increases, **no matter the original distribution being sampled from.**\n",
    "- Samples should be random and independent"
   ]
  },
  {
   "cell_type": "markdown",
   "id": "33f7d143-6971-4249-971a-7e7e7fb77444",
   "metadata": {},
   "source": [
    "## The Poisson Distribution"
   ]
  },
  {
   "cell_type": "markdown",
   "id": "6ae09002-9421-4ebb-8480-553c0077add0",
   "metadata": {},
   "source": [
    "- Probability of some # of events occurring over a fixed period of time\n",
    "- $\\lambda$\n",
    "    - average number of events per time interval\n",
    "    - expected value = $\\lambda$\n",
    "    - Lambda is also the distribution's peak\n",
    "\n",
    "<img src =\"https://www.scribbr.nl/wp-content/uploads/2022/08/Poisson-distribution-graph.webp\" width= '400'>"
   ]
  },
  {
   "cell_type": "code",
   "execution_count": 56,
   "id": "f50ce8e9-69ad-427a-9b0a-338292d5cef8",
   "metadata": {},
   "outputs": [],
   "source": [
    "from scipy.stats import poisson"
   ]
  },
  {
   "cell_type": "markdown",
   "id": "242b508a-b1a3-4fb8-a0c0-5af465b7af08",
   "metadata": {},
   "source": [
    "### Probability Mass Function (PMF)\n",
    "Probability Mass Function (pmf) is a function over the sample space of a discrete random variable X which gives the probability that X is equal to a certain value."
   ]
  },
  {
   "cell_type": "code",
   "execution_count": 57,
   "id": "4bece1af-5f55-427e-b463-e86a8e3cb6ab",
   "metadata": {},
   "outputs": [
    {
     "data": {
      "text/plain": [
       "0.04861075082960534"
      ]
     },
     "execution_count": 57,
     "metadata": {},
     "output_type": "execute_result"
    }
   ],
   "source": [
    "# Probability of a single value\n",
    "# poisson.pmf(# of events, lambda)\n",
    "poisson.pmf(10,15)"
   ]
  },
  {
   "cell_type": "markdown",
   "id": "ea3ca3f5-b3ca-4177-b5f6-2fa4ee8ca6e4",
   "metadata": {},
   "source": [
    "### Cumulative Distribution Function (CDF)"
   ]
  },
  {
   "cell_type": "code",
   "execution_count": 58,
   "id": "a0f07392-e7a9-4b29-93f9-2bcb0d8587c1",
   "metadata": {},
   "outputs": [
    {
     "data": {
      "text/plain": [
       "0.11846441152901499"
      ]
     },
     "execution_count": 58,
     "metadata": {},
     "output_type": "execute_result"
    }
   ],
   "source": [
    "# If the average number of phone calls an office received per day is 15, what is P(# phone calls in a day <= 10)\n",
    "# poisson.cdf(# of events, lambda)\n",
    "poisson.cdf(10, 15)"
   ]
  },
  {
   "cell_type": "code",
   "execution_count": 59,
   "id": "6b7ef6ba-e826-4911-bf70-41f95a151f97",
   "metadata": {},
   "outputs": [
    {
     "data": {
      "text/plain": [
       "0.881535588470985"
      ]
     },
     "execution_count": 59,
     "metadata": {},
     "output_type": "execute_result"
    }
   ],
   "source": [
    "# P(# phone calls in a day > 10\n",
    "1 - poisson.cdf(10, 15)"
   ]
  },
  {
   "cell_type": "markdown",
   "id": "3e09da15-24e0-4d72-b637-9cd5f09761af",
   "metadata": {},
   "source": [
    "### Sampling from a Poisson distribution"
   ]
  },
  {
   "cell_type": "code",
   "execution_count": 60,
   "id": "2a7c31cc-fc35-4705-96d0-aa256532bfb5",
   "metadata": {},
   "outputs": [
    {
     "data": {
      "text/plain": [
       "array([12, 11,  3, 10, 10,  5, 10, 12,  9, 13,  9,  7,  9,  9, 13])"
      ]
     },
     "execution_count": 60,
     "metadata": {},
     "output_type": "execute_result"
    }
   ],
   "source": [
    "# poisson.rvs(lambda, size)\n",
    "poisson.rvs(10, size=15)"
   ]
  },
  {
   "cell_type": "markdown",
   "id": "091d8d3e-1e7a-41c2-81c5-b515f51940d4",
   "metadata": {},
   "source": [
    "### The central limit theorem"
   ]
  },
  {
   "cell_type": "markdown",
   "id": "d6faf73b-0d2d-49d7-969d-1dacdd63aa92",
   "metadata": {},
   "source": [
    "- The CLT still applies (approaching $\\lambda$)"
   ]
  },
  {
   "cell_type": "markdown",
   "id": "0cfb59b9-196b-4c17-8980-65edd6821d07",
   "metadata": {},
   "source": [
    "## Exponential distribution"
   ]
  },
  {
   "cell_type": "markdown",
   "id": "c1422296-7fdd-40cc-8395-90516f234d9d",
   "metadata": {},
   "source": [
    "- Probability of time between Poisson events\n",
    "- Uses $\\lambda$ denoting scale (rate)\n",
    "- Continuous (time)\n",
    "\n",
    "<img src=\"https://upload.wikimedia.org/wikipedia/commons/8/86/WrappedExponentialPDF.png\" width=\"400\">\n"
   ]
  },
  {
   "cell_type": "markdown",
   "id": "6854b186-ec56-4c42-8a17-f10f5edded0d",
   "metadata": {},
   "source": [
    "On average, one shoes is manufactured every 4 minutes\n",
    "- λ = 1/4 = 0.25 shoes created each minute\n",
    "- scale = 1 / $\\lambda$ = 4"
   ]
  },
  {
   "cell_type": "code",
   "execution_count": 61,
   "id": "fb72da48-3a60-466d-8343-c005d6dc6421",
   "metadata": {},
   "outputs": [],
   "source": [
    "from scipy.stats import expon"
   ]
  },
  {
   "cell_type": "code",
   "execution_count": 62,
   "id": "1e2cdef4-2a15-4b2d-862c-fea91db24033",
   "metadata": {},
   "outputs": [
    {
     "data": {
      "text/plain": [
       "0.22119921692859515"
      ]
     },
     "execution_count": 62,
     "metadata": {},
     "output_type": "execute_result"
    }
   ],
   "source": [
    "# P(time < 1 min) \n",
    "# expon.cdf(expected value, scale)\n",
    "expon.cdf(1,scale= 4)"
   ]
  },
  {
   "cell_type": "code",
   "execution_count": 63,
   "id": "147653c5-653d-4508-8ba2-1e59b84543b6",
   "metadata": {},
   "outputs": [
    {
     "data": {
      "text/plain": [
       "0.28650479686019015"
      ]
     },
     "execution_count": 63,
     "metadata": {},
     "output_type": "execute_result"
    }
   ],
   "source": [
    "# P(time > 5 min) \n",
    "1 - expon.cdf(5,scale= 4)"
   ]
  },
  {
   "cell_type": "code",
   "execution_count": 64,
   "id": "15fe2f3b-b1ec-4485-a4ca-68e1b4a4d8ae",
   "metadata": {},
   "outputs": [
    {
     "data": {
      "text/plain": [
       "0.49229598621121473"
      ]
     },
     "execution_count": 64,
     "metadata": {},
     "output_type": "execute_result"
    }
   ],
   "source": [
    "# P(1 min < time < 5 min) \n",
    "expon.cdf(5,scale= 4) - expon.cdf(1,scale= 4)"
   ]
  },
  {
   "cell_type": "markdown",
   "id": "92b96928-360c-4ae8-935a-a2580f8853d1",
   "metadata": {},
   "source": [
    "## (Student's) t-distribution"
   ]
  },
  {
   "cell_type": "markdown",
   "id": "4bd43c55-cec3-48de-a025-d4d76222e2be",
   "metadata": {},
   "source": [
    "Has parameter degrees of freedom (df) which affects the thickness of the tails\n",
    "- Lower df = thicker tails, higher standard deviation -> observations are more likely to fall further from the mean.\n",
    "- Higher df = closer to normal distribution\n",
    "\n",
    "<img src='https://www.scribbr.co.uk/wp-content/uploads/2020/08/t_distribution_comparisons.png' width='400'>"
   ]
  },
  {
   "cell_type": "markdown",
   "id": "53bdfa81-1114-4a9f-9d45-7cec0e382b6b",
   "metadata": {},
   "source": [
    "## Log-normal distribution"
   ]
  },
  {
   "cell_type": "markdown",
   "id": "ca341a28-7239-46ba-8107-fa61f4b02e48",
   "metadata": {},
   "source": [
    "a continuous probability distribution of a random variable whose logarithm is normally distributed.\n",
    "\n",
    "<img src=\"https://upload.wikimedia.org/wikipedia/commons/thumb/8/89/Log-normal-pdfs.png/300px-Log-normal-pdfs.png\" width=\"400\">"
   ]
  },
  {
   "cell_type": "markdown",
   "id": "c2c8cf7a-0fb5-4245-90ad-29cfdf85b0e6",
   "metadata": {},
   "source": [
    "Examples in finance:\n",
    "\n",
    "- **Stock Prices**: In finance, stock prices are commonly assumed to follow a log-normal distribution. This assumption is based on the idea that the price changes of a stock are proportional and can be thought of as the product of many small percentage changes over time. The logarithm of stock prices often exhibits a more symmetrical, bell-shaped distribution.\n",
    "\n",
    "- **Asset Returns**: Asset returns, such as stock returns or market returns, are often assumed to follow a log-normal distribution. Log-returns are typically more symmetrically distributed and often have fatter tails compared to simple percentage returns.\n",
    "\n",
    "- **Option Pricing**: Log-normal distribution is used in option pricing models like the Black-Scholes model. This model assumes that the underlying asset price follows a log-normal distribution. This assumption helps in calculating the probability distribution of future prices, which is fundamental for options pricing.\n",
    "\n",
    "- **Income Distribution**: In some cases, income or wealth distribution within a population is modeled using a log-normal distribution. For example, when studying income inequality or wealth distribution, economists might use the log-normal distribution to describe how income or wealth is distributed across different segments of the population.\n",
    "\n",
    "- **Interest Rates**: While interest rates themselves are not often assumed to follow a log-normal distribution, the log of interest rates is sometimes modeled using a normal distribution. This assumption is made in certain financial models to simplify calculations and analyze interest rate movements."
   ]
  }
 ],
 "metadata": {
  "kernelspec": {
   "display_name": "Python 3 (ipykernel)",
   "language": "python",
   "name": "python3"
  },
  "language_info": {
   "codemirror_mode": {
    "name": "ipython",
    "version": 3
   },
   "file_extension": ".py",
   "mimetype": "text/x-python",
   "name": "python",
   "nbconvert_exporter": "python",
   "pygments_lexer": "ipython3",
   "version": "3.11.3"
  }
 },
 "nbformat": 4,
 "nbformat_minor": 5
}
