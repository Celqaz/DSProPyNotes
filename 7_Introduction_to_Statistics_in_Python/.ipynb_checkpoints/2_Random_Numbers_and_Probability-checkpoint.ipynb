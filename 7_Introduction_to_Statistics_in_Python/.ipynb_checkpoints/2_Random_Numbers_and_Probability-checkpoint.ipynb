{
 "cells": [
  {
   "cell_type": "markdown",
   "id": "926d28d0-496b-470b-b875-898e9f04e3a4",
   "metadata": {},
   "source": [
    "# Random Numbers and Probability"
   ]
  },
  {
   "cell_type": "code",
   "execution_count": 1,
   "id": "b746b239-d238-4801-a21a-0549e44955d6",
   "metadata": {},
   "outputs": [],
   "source": [
    "import yfinance as yf\n",
    "from datetime import datetime"
   ]
  },
  {
   "cell_type": "code",
   "execution_count": 2,
   "id": "d394f351-5c7d-42a7-82f6-a68e0ee8615d",
   "metadata": {},
   "outputs": [],
   "source": [
    "tickers = yf.Ticker('ASML')"
   ]
  },
  {
   "cell_type": "code",
   "execution_count": 3,
   "id": "666fcdc6-ab5e-4242-8d98-2e362bb9d6dd",
   "metadata": {},
   "outputs": [],
   "source": [
    "history_price = tickers.history(period=\"1mo\")"
   ]
  },
  {
   "cell_type": "code",
   "execution_count": 4,
   "id": "5c55de3f-87de-4d48-addb-0e75b05a98c0",
   "metadata": {},
   "outputs": [
    {
     "name": "stdout",
     "output_type": "stream",
     "text": [
      "<class 'pandas.core.frame.DataFrame'>\n",
      "DatetimeIndex: 20 entries, 2023-12-04 00:00:00-05:00 to 2024-01-02 00:00:00-05:00\n",
      "Data columns (total 7 columns):\n",
      " #   Column        Non-Null Count  Dtype  \n",
      "---  ------        --------------  -----  \n",
      " 0   Open          20 non-null     float64\n",
      " 1   High          20 non-null     float64\n",
      " 2   Low           20 non-null     float64\n",
      " 3   Close         20 non-null     float64\n",
      " 4   Volume        20 non-null     int64  \n",
      " 5   Dividends     20 non-null     float64\n",
      " 6   Stock Splits  20 non-null     float64\n",
      "dtypes: float64(6), int64(1)\n",
      "memory usage: 1.2 KB\n"
     ]
    }
   ],
   "source": [
    "history_price.info()"
   ]
  },
  {
   "cell_type": "markdown",
   "id": "51d180f1-9b18-4c17-bd66-ab3390c09f33",
   "metadata": {},
   "source": [
    "## Sampling from dataframe"
   ]
  },
  {
   "cell_type": "code",
   "execution_count": 5,
   "id": "a493dbb2-d461-4db2-9c6a-c4fa9c2450b9",
   "metadata": {},
   "outputs": [],
   "source": [
    "import numpy as np"
   ]
  },
  {
   "cell_type": "markdown",
   "id": "aa6d8f8f-d136-45b7-b2ec-b0277e48bc42",
   "metadata": {},
   "source": [
    "### Sampling one "
   ]
  },
  {
   "cell_type": "code",
   "execution_count": 6,
   "id": "c2f07d24-e6bf-4951-ba1b-f999c409f724",
   "metadata": {},
   "outputs": [
    {
     "data": {
      "text/plain": [
       "Date\n",
       "2023-12-26 00:00:00-05:00    762.679993\n",
       "Name: Close, dtype: float64"
      ]
     },
     "execution_count": 6,
     "metadata": {},
     "output_type": "execute_result"
    }
   ],
   "source": [
    "history_price['Close'].sample()"
   ]
  },
  {
   "cell_type": "code",
   "execution_count": 7,
   "id": "23c17f24-423a-479d-b10c-4929ee05db88",
   "metadata": {},
   "outputs": [
    {
     "data": {
      "text/plain": [
       "Date\n",
       "2023-12-04 00:00:00-05:00    690.320007\n",
       "Name: Close, dtype: float64"
      ]
     },
     "execution_count": 7,
     "metadata": {},
     "output_type": "execute_result"
    }
   ],
   "source": [
    "# Get the same result by setting the seed.\n",
    "np.random.seed(42)\n",
    "history_price['Close'].sample()"
   ]
  },
  {
   "cell_type": "markdown",
   "id": "1cc3b93e-1d41-4800-95c7-0b68045027cf",
   "metadata": {},
   "source": [
    "### Sampling two "
   ]
  },
  {
   "cell_type": "markdown",
   "id": "28d28618-e5e6-4e6b-9abd-745c5d2d85fe",
   "metadata": {},
   "source": [
    "#### Samping without replacement"
   ]
  },
  {
   "cell_type": "code",
   "execution_count": 8,
   "id": "34bbf06b-db36-4a20-bd82-1ac648cf612e",
   "metadata": {},
   "outputs": [
    {
     "data": {
      "text/plain": [
       "Date\n",
       "2024-01-02 00:00:00-05:00    716.919983\n",
       "2023-12-27 00:00:00-05:00    764.030029\n",
       "Name: Close, dtype: float64"
      ]
     },
     "execution_count": 8,
     "metadata": {},
     "output_type": "execute_result"
    }
   ],
   "source": [
    "history_price['Close'].sample(2)"
   ]
  },
  {
   "cell_type": "markdown",
   "id": "be368254-9910-46b3-ae91-2650d439ae16",
   "metadata": {},
   "source": [
    "#### Samping with replacement"
   ]
  },
  {
   "cell_type": "code",
   "execution_count": 14,
   "id": "912c7180-1b13-4f0c-b9a6-f402bf5178e4",
   "metadata": {},
   "outputs": [
    {
     "data": {
      "text/plain": [
       "Date\n",
       "2023-12-05 00:00:00-05:00    694.530029\n",
       "2023-12-07 00:00:00-05:00    699.650024\n",
       "2023-12-07 00:00:00-05:00    699.650024\n",
       "2023-12-11 00:00:00-05:00    710.239990\n",
       "2023-12-15 00:00:00-05:00    752.960022\n",
       "Name: Close, dtype: float64"
      ]
     },
     "execution_count": 14,
     "metadata": {},
     "output_type": "execute_result"
    }
   ],
   "source": [
    "history_price['Close'].sample(5, replace = True).sort_values(axis = 0)"
   ]
  },
  {
   "cell_type": "markdown",
   "id": "449df5ff-5dab-4942-b8e7-94271d9617de",
   "metadata": {},
   "source": [
    "## Discrete distributions"
   ]
  },
  {
   "cell_type": "markdown",
   "id": "32cc397e-7fab-48a2-a7a8-772ede7a9007",
   "metadata": {},
   "source": [
    "- Expected Value: mean of a probability distribution\n",
    "- Uniform Discrete Distributions: all outcomes have the same probability\n",
    "- Law of large numbers: As the size of the sample increases, the sample mean will approach the expected value"
   ]
  },
  {
   "cell_type": "code",
   "execution_count": 12,
   "id": "64b22096-cb28-47a5-a85b-ed75db8982f2",
   "metadata": {},
   "outputs": [
    {
     "data": {
      "text/plain": [
       "array([1. , 1.5, 2. , 2.5, 3. , 3.5, 4. , 4.5, 5. ])"
      ]
     },
     "execution_count": 12,
     "metadata": {},
     "output_type": "execute_result"
    }
   ],
   "source": [
    "np.linspace(1,5,9)"
   ]
  },
  {
   "cell_type": "markdown",
   "id": "5459e053-a466-4ec5-a0c0-fd7f6a0f778f",
   "metadata": {},
   "source": [
    "## Continuous distributions"
   ]
  },
  {
   "cell_type": "markdown",
   "id": "d19fadb6-788d-4bff-adb6-7221e5a2b7cc",
   "metadata": {},
   "source": [
    "- Continuous uniform distribution: all continuous outcomes have the same probability"
   ]
  },
  {
   "cell_type": "code",
   "execution_count": 98,
   "id": "8ccae423-22cf-49d6-aaa9-e5a90fc8a8e4",
   "metadata": {},
   "outputs": [],
   "source": [
    "from scipy.stats import uniform"
   ]
  },
  {
   "cell_type": "code",
   "execution_count": 100,
   "id": "18a3b7dc-e539-475e-b360-d26c91f5febf",
   "metadata": {},
   "outputs": [
    {
     "data": {
      "text/plain": [
       "0.5833333333333334"
      ]
     },
     "execution_count": 100,
     "metadata": {},
     "output_type": "execute_result"
    }
   ],
   "source": [
    "# P(x<=7, starts form 0, ends at 12)\n",
    "uniform.cdf(7, 0, 12)"
   ]
  },
  {
   "cell_type": "markdown",
   "id": "a7a9d59a-d28f-483d-86bd-360393753e2a",
   "metadata": {},
   "source": [
    "- Generating random numbers according to uniform distribution"
   ]
  },
  {
   "cell_type": "code",
   "execution_count": 101,
   "id": "4b2dcfa0-2d2c-44d3-980f-e070f37ce01d",
   "metadata": {},
   "outputs": [
    {
     "data": {
      "text/plain": [
       "array([1.35771458, 4.82625915, 2.28632581, 4.21011538, 0.97190017,\n",
       "       2.05676953, 3.49756105, 0.69176546, 0.66372711, 4.84768434])"
      ]
     },
     "execution_count": 101,
     "metadata": {},
     "output_type": "execute_result"
    }
   ],
   "source": [
    "uniform.rvs(0, 5, size=10)"
   ]
  },
  {
   "cell_type": "markdown",
   "id": "7e55270d-3062-4561-a22c-ed904e18e3d6",
   "metadata": {},
   "source": [
    "## Binomial distribution"
   ]
  },
  {
   "cell_type": "markdown",
   "id": "bd6a32f4-433a-4202-8bb5-9d965b629aca",
   "metadata": {},
   "source": [
    "- Expected value: $n \\times p$"
   ]
  },
  {
   "cell_type": "code",
   "execution_count": 103,
   "id": "c705c8eb-ac3f-4cc0-b8d3-87412462ed5b",
   "metadata": {},
   "outputs": [],
   "source": [
    "from scipy.stats import binom"
   ]
  },
  {
   "cell_type": "code",
   "execution_count": 104,
   "id": "6b4a61d6-fae4-4e49-8d2c-fe19676115c9",
   "metadata": {},
   "outputs": [
    {
     "data": {
      "text/plain": [
       "array([1])"
      ]
     },
     "execution_count": 104,
     "metadata": {},
     "output_type": "execute_result"
    }
   ],
   "source": [
    "# binom.rvs(tests per trials, probability of success, total number of trials)\n",
    "binom.rvs(1, 0.5, size=1)"
   ]
  },
  {
   "cell_type": "code",
   "execution_count": 105,
   "id": "378feaf6-9471-4067-b34b-7cbe24181de9",
   "metadata": {},
   "outputs": [
    {
     "data": {
      "text/plain": [
       "0.11718749999999999"
      ]
     },
     "execution_count": 105,
     "metadata": {},
     "output_type": "execute_result"
    }
   ],
   "source": [
    "# P(heads) = 7\n",
    "# pmf: probability mass function \n",
    "# binom.pmf(num heads, num trials, prob of heads)\n",
    "binom.pmf(7, 10, 0.5)"
   ]
  },
  {
   "cell_type": "code",
   "execution_count": 106,
   "id": "89928aaa-9872-4ad1-8176-45474557e48c",
   "metadata": {},
   "outputs": [
    {
     "data": {
      "text/plain": [
       "0.9453125"
      ]
     },
     "execution_count": 106,
     "metadata": {},
     "output_type": "execute_result"
    }
   ],
   "source": [
    "# P(heads≤7)\n",
    "binom.cdf(7, 10, 0.5)"
   ]
  },
  {
   "cell_type": "code",
   "execution_count": 117,
   "id": "5107dd91-59d5-41e3-8526-6e8fac6645ee",
   "metadata": {},
   "outputs": [
    {
     "data": {
      "text/plain": [
       "array([2, 1, 0, 2, 3, 3, 0, 1, 1, 1, 2, 1, 2, 2, 2, 1, 0, 1, 2, 0, 1, 0,\n",
       "       1, 2, 2, 0, 2, 1, 1, 1, 1, 1, 1, 0, 0, 1, 0, 1, 1, 1, 1, 2, 1, 1,\n",
       "       0, 1, 1, 0, 1, 1, 2, 3])"
      ]
     },
     "execution_count": 117,
     "metadata": {},
     "output_type": "execute_result"
    }
   ],
   "source": [
    "# Simulate 52 weeks of 3 deals\n",
    "deals = binom.rvs(3, 0.3, size = 52)\n",
    "deals"
   ]
  },
  {
   "cell_type": "code",
   "execution_count": 120,
   "id": "05a7f083-5a2a-4cc4-90f7-87d34893b2b3",
   "metadata": {},
   "outputs": [
    {
     "data": {
      "text/plain": [
       "1.1346153846153846"
      ]
     },
     "execution_count": 120,
     "metadata": {},
     "output_type": "execute_result"
    }
   ],
   "source": [
    "# Print mean deals won per week\n",
    "deals.mean()"
   ]
  },
  {
   "cell_type": "code",
   "execution_count": null,
   "id": "6bc548dd-d97f-4d68-ad20-f000bd7b3258",
   "metadata": {},
   "outputs": [],
   "source": []
  }
 ],
 "metadata": {
  "kernelspec": {
   "display_name": "Python 3 (ipykernel)",
   "language": "python",
   "name": "python3"
  },
  "language_info": {
   "codemirror_mode": {
    "name": "ipython",
    "version": 3
   },
   "file_extension": ".py",
   "mimetype": "text/x-python",
   "name": "python",
   "nbconvert_exporter": "python",
   "pygments_lexer": "ipython3",
   "version": "3.11.3"
  }
 },
 "nbformat": 4,
 "nbformat_minor": 5
}
